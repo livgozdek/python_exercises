{
 "cells": [
  {
   "cell_type": "code",
   "execution_count": 1,
   "metadata": {},
   "outputs": [
    {
     "name": "stdout",
     "output_type": "stream",
     "text": [
      "[15, 13, 16, 18, 19, 10]\n"
     ]
    }
   ],
   "source": [
    "#Exercise 14 remove duplicates from a list\n",
    "\n",
    "ages = [15,13,16,18,19,15,10]\n",
    "\n",
    "ages = list(dict.fromkeys(ages))\n",
    "#creating a dictionary from items in the list as keys, and keys cannot be duplicated, then list is a typecast which reverts it back to a list\n",
    "print(ages)"
   ]
  },
  {
   "cell_type": "code",
   "execution_count": 2,
   "metadata": {},
   "outputs": [
    {
     "name": "stdout",
     "output_type": "stream",
     "text": [
      "[15, 13, 16, 18, 19, 15, 10]\n",
      "{10, 13, 15, 16, 18, 19}\n",
      "[15, 13, 16, 18, 19, 10]\n",
      "[15, 13, 16, 18, 19, 10]\n"
     ]
    }
   ],
   "source": [
    "#Exercise 14 remove duplicates - other solutions\n",
    "\n",
    "ages = [15,13,16,18,19,15,10]\n",
    "print(ages)\n",
    "noDupeAges=set(ages)\n",
    "print(noDupeAges)\n",
    "\n",
    "# ^ sets do not allow duplicates and automatically re-order lists\n",
    "\n",
    "nodupl = []\n",
    "for age in ages:\n",
    "  if age not in nodupl:\n",
    "    nodupl.append(age)\n",
    "\n",
    "print(nodupl)\n",
    " \n",
    "# ^ soution with auxiliary list, doesn't reorder list\n",
    "\n",
    "nodupl2 = []\n",
    "[nodupl2.append(age) for age in ages if age not in nodupl2]\n",
    "\n",
    "print(nodupl2)\n",
    "\n",
    "# ^ solution using list comprehension"
   ]
  },
  {
   "cell_type": "code",
   "execution_count": 3,
   "metadata": {},
   "outputs": [
    {
     "name": "stdout",
     "output_type": "stream",
     "text": [
      "Welcome Evelyn, have a nice day!\n",
      "Welcome Jost, have a nice day!\n"
     ]
    }
   ],
   "source": [
    "#Exercise 15 write a Welcome function\n",
    "\n",
    "def welcome(name='User'):\n",
    "  print(f\"Welcome {name}, have a nice day!\")\n",
    "welcome(\"Evelyn\")\n",
    "welcome(\"Jost\")"
   ]
  },
  {
   "cell_type": "code",
   "execution_count": null,
   "metadata": {},
   "outputs": [],
   "source": [
    "print(\"hello\")"
   ]
  },
  {
   "cell_type": "code",
   "execution_count": null,
   "metadata": {},
   "outputs": [],
   "source": [
    "#Exercise 16 function which calculates length of string as input\n",
    "\n",
    "def get_length(X):\n",
    "  L = len(X)\n",
    "  print(L)\n",
    "\n",
    "get_length(\"Hello\")\n",
    "get_length(\"Hi\")"
   ]
  }
 ],
 "metadata": {
  "interpreter": {
   "hash": "6084d0273e184c6cd9d302d7a5b8f6440c1ec0c05fb0caf27011e3a3579b5746"
  },
  "kernelspec": {
   "display_name": "Python 3.9.7 64-bit ('base': conda)",
   "language": "python",
   "name": "python3"
  },
  "language_info": {
   "codemirror_mode": {
    "name": "ipython",
    "version": 3
   },
   "file_extension": ".py",
   "mimetype": "text/x-python",
   "name": "python",
   "nbconvert_exporter": "python",
   "pygments_lexer": "ipython3",
   "version": "3.9.7"
  },
  "orig_nbformat": 4
 },
 "nbformat": 4,
 "nbformat_minor": 2
}
