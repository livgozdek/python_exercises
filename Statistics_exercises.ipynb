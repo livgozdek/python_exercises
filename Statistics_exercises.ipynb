{
 "cells": [
  {
   "cell_type": "code",
   "execution_count": 2,
   "metadata": {},
   "outputs": [],
   "source": [
    "import numpy as np"
   ]
  },
  {
   "cell_type": "markdown",
   "metadata": {},
   "source": [
    "#sum of deviations of individual data points from their mean"
   ]
  },
  {
   "cell_type": "code",
   "execution_count": 24,
   "metadata": {},
   "outputs": [
    {
     "name": "stdout",
     "output_type": "stream",
     "text": [
      "12.8\n",
      "[-4.8 -0.8  3.2 11.2 -8.8]\n",
      "-3.552713678800501e-15\n"
     ]
    }
   ],
   "source": [
    "data_points = np.array([8.,12.,16.,24.,4.])\n",
    "\n",
    "mean_dp = np.mean(data_points)\n",
    "print(mean_dp)\n",
    "print(data_points - mean_dp)\n",
    "\n",
    "sum_dp = np.sum(data_points - mean_dp)\n",
    "print(sum_dp)\n",
    "\n",
    "#the answer is always zero because the mean is a number\n",
    "#which is defined as the sum of all deviations being zero"
   ]
  },
  {
   "cell_type": "code",
   "execution_count": 25,
   "metadata": {},
   "outputs": [],
   "source": [
    "# 2. If some outliers are introduced to the dataset\n",
    "#what will happen to the Standard Deviation? \n",
    "\n",
    "# B) Standard Deviation will increase"
   ]
  },
  {
   "cell_type": "code",
   "execution_count": null,
   "metadata": {},
   "outputs": [],
   "source": [
    "# 3. Suppose the below positively skewed distribution has\n",
    "# a median of 30, which of the following statement is true?\n",
    "\n",
    "# E) Both A and D:Mean > 30 & Mode < 30"
   ]
  },
  {
   "cell_type": "code",
   "execution_count": null,
   "metadata": {},
   "outputs": [],
   "source": [
    "# 4. Which is the median?\n",
    "\n",
    "# B. 26"
   ]
  },
  {
   "cell_type": "code",
   "execution_count": 27,
   "metadata": {},
   "outputs": [],
   "source": [
    "# 5. The shape of the distribution is positive skew\n",
    "\n",
    "# 6. Depends on what you want to know from the center...\n",
    "# The most appropriate measure could be the mode if the bins\n",
    "# include full integers. The median would show more info\n",
    "# about the breadth of the extremes. \n",
    "\n",
    "# 7. 35 people "
   ]
  },
  {
   "cell_type": "code",
   "execution_count": null,
   "metadata": {},
   "outputs": [],
   "source": [
    "# 8. Changing a single value in a set of positive numbers \n",
    "# resuires a change to the mean"
   ]
  },
  {
   "cell_type": "code",
   "execution_count": 31,
   "metadata": {},
   "outputs": [
    {
     "data": {
      "text/plain": [
       "10.44030650891055"
      ]
     },
     "execution_count": 31,
     "metadata": {},
     "output_type": "execute_result"
    }
   ],
   "source": [
    "#9. Calculate standard deviation\n",
    "\n",
    "rates = [25,25,25,40,40,35,50,50,50,50]\n",
    "\n",
    "np.std(rates)"
   ]
  },
  {
   "cell_type": "code",
   "execution_count": null,
   "metadata": {},
   "outputs": [],
   "source": [
    "#10. The numer of pens is a discrete variable"
   ]
  },
  {
   "cell_type": "code",
   "execution_count": 32,
   "metadata": {},
   "outputs": [],
   "source": [
    "#11. Which distribution has the greatest spread?\n",
    "\n",
    "# C) mu=5,  sigma =1.65\n",
    "# This largest sigma is the greatest spread"
   ]
  },
  {
   "cell_type": "code",
   "execution_count": null,
   "metadata": {},
   "outputs": [],
   "source": [
    "#12. 2.5% of the values lies above 12.8 with mu=10 sig=1.4"
   ]
  }
 ],
 "metadata": {
  "interpreter": {
   "hash": "6084d0273e184c6cd9d302d7a5b8f6440c1ec0c05fb0caf27011e3a3579b5746"
  },
  "kernelspec": {
   "display_name": "Python 3.9.7 64-bit ('base': conda)",
   "language": "python",
   "name": "python3"
  },
  "language_info": {
   "codemirror_mode": {
    "name": "ipython",
    "version": 3
   },
   "file_extension": ".py",
   "mimetype": "text/x-python",
   "name": "python",
   "nbconvert_exporter": "python",
   "pygments_lexer": "ipython3",
   "version": "3.9.7"
  },
  "orig_nbformat": 4
 },
 "nbformat": 4,
 "nbformat_minor": 2
}
